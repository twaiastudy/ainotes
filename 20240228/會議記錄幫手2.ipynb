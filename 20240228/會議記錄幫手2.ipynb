{
 "cells": [
  {
   "cell_type": "code",
   "execution_count": 1,
   "id": "fc11fbc2",
   "metadata": {},
   "outputs": [],
   "source": [
    "from transformers import AutoModelForCausalLM, AutoTokenizer, AutoModelForSpeechSeq2Seq, AutoProcessor, pipeline\n",
    "import torch\n",
    "from langchain.text_splitter import RecursiveCharacterTextSplitter\n",
    "\n",
    "from langchain.vectorstores import Chroma\n",
    "from langchain.chains import RetrievalQA\n",
    "import re\n",
    "from pprint import pp\n",
    "from tqdm import tqdm\n",
    "from langchain.embeddings import HuggingFaceEmbeddings\n",
    "from sentence_transformers import SentenceTransformer\n",
    "\n",
    "import functools\n",
    "import platform\n",
    "import argparse\n",
    "from time import time\n",
    "import os\n",
    "from scipy.spatial.distance import cosine"
   ]
  },
  {
   "cell_type": "markdown",
   "id": "e09fddf6",
   "metadata": {},
   "source": [
    "<h1><font color='blue'>0. 設定whisper物件</font></h1>"
   ]
  },
  {
   "cell_type": "code",
   "execution_count": 3,
   "id": "c9f7d856",
   "metadata": {},
   "outputs": [],
   "source": [
    "\n",
    "def strtobool(val):\n",
    "    val = val.lower()\n",
    "    if val in ('y', 'yes', 't', 'true', 'on', '1'):\n",
    "        return True\n",
    "    elif val in ('n', 'no', 'f', 'false', 'off', '0'):\n",
    "        return False\n",
    "    else:\n",
    "        raise ValueError(\"invalid truth value %r\" % (val,))\n",
    "\n",
    "\n",
    "def str_none(val):\n",
    "    if val == 'None':\n",
    "        return None\n",
    "    else:\n",
    "        return val\n",
    "\n",
    "\n",
    "def add_arguments(argname, type, default, help, argparser, **kwargs):\n",
    "    type = strtobool if type == bool else type\n",
    "    type = str_none if type == str else type\n",
    "    argparser.add_argument(\"--\" + argname,\n",
    "                           default=default,\n",
    "                           type=type,\n",
    "                           help=help + ' Default: %(default)s.',\n",
    "                           **kwargs)\n",
    "\n",
    "class infer_obj:\n",
    "    def __init__(self ,audio_path=None ,model_path=None ,use_gpu=None ,language=None,\n",
    "                 num_beams=None ,batch_size=None ,use_compile=None ,task=None,\n",
    "                 assistant_model_path=None ,local_files_only=None ,use_flash_attention_2=None ,use_bettertransformer=None):\n",
    "        import sys\n",
    "        sys.argv=['']\n",
    "\n",
    "        parser = argparse.ArgumentParser(description=__doc__)\n",
    "        add_arg = functools.partial(add_arguments, argparser=parser)\n",
    "        add_arg(\"audio_path\",  type=str,  default=\"dataset/test.wav\", help=\"预测的音频路径\")\n",
    "        add_arg(\"model_path\",  type=str,  default=\"openai/whisper-small\", help=\"合并模型的路径，或者是huggingface上模型的名称\")\n",
    "        add_arg(\"use_gpu\",     type=bool, default=True,      help=\"是否使用gpu进行预测\")\n",
    "        add_arg(\"language\",    type=str,  default=\"Chinese\", help=\"设置语言，如果为None则预测的是多语言\")\n",
    "        add_arg(\"num_beams\",   type=int,  default=1,         help=\"解码搜索大小\")\n",
    "        add_arg(\"batch_size\",  type=int,  default=16,        help=\"预测batch_size大小\")\n",
    "        add_arg(\"use_compile\", type=bool, default=False,     help=\"是否使用Pytorch2.0的编译器\")\n",
    "        add_arg(\"task\",        type=str,  default=\"transcribe\", choices=['transcribe', 'translate'], help=\"模型的任务\")\n",
    "        add_arg(\"assistant_model_path\",  type=str,  default=None,  help=\"助手模型，可以提高推理速度，例如openai/whisper-tiny\")\n",
    "        add_arg(\"local_files_only\",      type=bool, default=False,  help=\"是否只在本地加载模型，不尝试下载\")\n",
    "        add_arg(\"use_flash_attention_2\", type=bool, default=False, help=\"是否使用FlashAttention2加速\")\n",
    "        add_arg(\"use_bettertransformer\", type=bool, default=False, help=\"是否使用BetterTransformer加速\")\n",
    "        self.args = parser.parse_args()\n",
    "        \n",
    "        if not audio_path is None: self.args.audio_path = audio_path\n",
    "        if not model_path is None: self.args.model_path = model_path\n",
    "        if not use_gpu is None: self.args.use_gpu = use_gpu\n",
    "        if not language is None: self.args.language = language\n",
    "        if not num_beams is None: self.args.num_beams = num_beams\n",
    "        if not batch_size is None: self.args.batch_size = batch_size\n",
    "        if not use_compile is None: self.args.use_compile = use_compile\n",
    "        if not task is None: self.args.task = task\n",
    "        if not assistant_model_path is None: self.args.assistant_model_path = assistant_model_path\n",
    "        if not local_files_only is None: self.args.local_files_only = local_files_only\n",
    "        if not use_flash_attention_2 is None: self.args.use_flash_attention_2 = use_flash_attention_2\n",
    "        if not use_bettertransformer is None: self.args.use_bettertransformer = use_bettertransformer\n",
    "        \n",
    "        pp(self.args)\n",
    "                \n",
    "        # 设置设备\n",
    "        self.device = \"cuda\" if torch.cuda.is_available() and self.args.use_gpu else \"cpu\"\n",
    "        self.torch_dtype = torch.float16 if torch.cuda.is_available() and self.args.use_gpu else torch.float32\n",
    "        \n",
    "        # 获取Whisper的特征提取器、编码器和解码器\n",
    "        self.processor = AutoProcessor.from_pretrained(self.args.model_path)\n",
    "        \n",
    "        # 获取模型\n",
    "        self.model = AutoModelForSpeechSeq2Seq.from_pretrained(\n",
    "            self.args.model_path, torch_dtype=self.torch_dtype, low_cpu_mem_usage=True, use_safetensors=True,\n",
    "            use_flash_attention_2=self.args.use_flash_attention_2\n",
    "        )\n",
    "        if self.args.use_bettertransformer and not self.args.use_flash_attention_2:\n",
    "            self.model = self.model.to_bettertransformer()\n",
    "        # 使用Pytorch2.0的编译器\n",
    "        if self.args.use_compile:\n",
    "            if torch.__version__ >= \"2\" and platform.system().lower() != 'windows':\n",
    "                self.model = torch.compile(self.model)\n",
    "        self.model.to(self.device)\n",
    "        \n",
    "        # 获取助手模型\n",
    "        self.generate_kwargs_pipeline = None\n",
    "        if self.args.assistant_model_path is not None:\n",
    "            self.assistant_model = AutoModelForCausalLM.from_pretrained(\n",
    "                self.args.assistant_model_path, torch_dtype=self.torch_dtype, low_cpu_mem_usage=True, use_safetensors=True\n",
    "            )\n",
    "            self.assistant_model.to(self.device)\n",
    "            self.generate_kwargs_pipeline = {\"assistant_model\": self.assistant_model}\n",
    "        \n",
    "        # 获取管道\n",
    "        self.infer_pipe = pipeline(\"automatic-speech-recognition\",\n",
    "                                   model=self.model,\n",
    "                                tokenizer=self.processor.tokenizer,\n",
    "                                feature_extractor=self.processor.feature_extractor,\n",
    "                                max_new_tokens=128,\n",
    "                                chunk_length_s=30,\n",
    "                                batch_size=self.args.batch_size,\n",
    "                                torch_dtype=self.torch_dtype,\n",
    "                                generate_kwargs=self.generate_kwargs_pipeline,\n",
    "                                device=self.device)\n",
    "        \n",
    "        # 推理参数\n",
    "        self.generate_kwargs = {\"task\": self.args.task, \"num_beams\": self.args.num_beams}\n",
    "        if self.args.language is not None:\n",
    "            self.generate_kwargs[\"language\"] = self.args.language\n",
    "           \n",
    "    def infer(self, audio_path=None):\n",
    "        self.result = self.infer_pipe(self.args.audio_path, return_timestamps=False, generate_kwargs=self.generate_kwargs)\n",
    "        return self.result['text']\n"
   ]
  },
  {
   "cell_type": "markdown",
   "id": "dfb5e649",
   "metadata": {},
   "source": [
    "<h1><font color='blue'>1. 執行whisper, 取得逐字稿</font></h1>"
   ]
  },
  {
   "cell_type": "code",
   "execution_count": 4,
   "id": "1e9be49d",
   "metadata": {
    "scrolled": true
   },
   "outputs": [
    {
     "name": "stdout",
     "output_type": "stream",
     "text": [
      "Namespace(audio_path='.\\\\20221025 臺南市政府第566次市政會議.mp3', model_path='openai/whisper-large-v2', use_gpu=True, language='Chinese', num_beams=1, batch_size=16, use_compile=False, task='transcribe', assistant_model_path=None, local_files_only=False, use_flash_attention_2=False, use_bettertransformer=False)\n"
     ]
    },
    {
     "name": "stderr",
     "output_type": "stream",
     "text": [
      "C:\\ProgramData\\anaconda3\\Lib\\site-packages\\pip_system_certs\\wrapt_requests.py:71: UserWarning: Failed to patch SSL settings for unverified requests (unsupported version of urllib3?)\n",
      "This may lead to errors when urllib3 tries to modify verify_mode.\n",
      "Please report an issue at https://gitlab.com/alelec/pip-system-certs with your\n",
      "python version included in the description\n",
      "\n",
      "  warnings.warn(\n",
      "C:\\ProgramData\\anaconda3\\Lib\\site-packages\\urllib3\\connectionpool.py:1056: InsecureRequestWarning: Unverified HTTPS request is being made to host 'khproxyap.aseglobal.com'. Adding certificate verification is strongly advised. See: https://urllib3.readthedocs.io/en/1.26.x/advanced-usage.html#ssl-warnings\n",
      "  warnings.warn(\n",
      "C:\\ProgramData\\anaconda3\\Lib\\site-packages\\urllib3\\connectionpool.py:1056: InsecureRequestWarning: Unverified HTTPS request is being made to host 'khproxyap.aseglobal.com'. Adding certificate verification is strongly advised. See: https://urllib3.readthedocs.io/en/1.26.x/advanced-usage.html#ssl-warnings\n",
      "  warnings.warn(\n",
      "C:\\ProgramData\\anaconda3\\Lib\\site-packages\\urllib3\\connectionpool.py:1056: InsecureRequestWarning: Unverified HTTPS request is being made to host 'khproxyap.aseglobal.com'. Adding certificate verification is strongly advised. See: https://urllib3.readthedocs.io/en/1.26.x/advanced-usage.html#ssl-warnings\n",
      "  warnings.warn(\n",
      "C:\\ProgramData\\anaconda3\\Lib\\site-packages\\urllib3\\connectionpool.py:1056: InsecureRequestWarning: Unverified HTTPS request is being made to host 'khproxyap.aseglobal.com'. Adding certificate verification is strongly advised. See: https://urllib3.readthedocs.io/en/1.26.x/advanced-usage.html#ssl-warnings\n",
      "  warnings.warn(\n",
      "C:\\ProgramData\\anaconda3\\Lib\\site-packages\\urllib3\\connectionpool.py:1056: InsecureRequestWarning: Unverified HTTPS request is being made to host 'khproxyap.aseglobal.com'. Adding certificate verification is strongly advised. See: https://urllib3.readthedocs.io/en/1.26.x/advanced-usage.html#ssl-warnings\n",
      "  warnings.warn(\n",
      "Special tokens have been added in the vocabulary, make sure the associated word embeddings are fine-tuned or trained.\n",
      "C:\\ProgramData\\anaconda3\\Lib\\site-packages\\urllib3\\connectionpool.py:1056: InsecureRequestWarning: Unverified HTTPS request is being made to host 'khproxyap.aseglobal.com'. Adding certificate verification is strongly advised. See: https://urllib3.readthedocs.io/en/1.26.x/advanced-usage.html#ssl-warnings\n",
      "  warnings.warn(\n",
      "C:\\ProgramData\\anaconda3\\Lib\\site-packages\\urllib3\\connectionpool.py:1056: InsecureRequestWarning: Unverified HTTPS request is being made to host 'khproxyap.aseglobal.com'. Adding certificate verification is strongly advised. See: https://urllib3.readthedocs.io/en/1.26.x/advanced-usage.html#ssl-warnings\n",
      "  warnings.warn(\n",
      "C:\\ProgramData\\anaconda3\\Lib\\site-packages\\urllib3\\connectionpool.py:1056: InsecureRequestWarning: Unverified HTTPS request is being made to host 'khproxyap.aseglobal.com'. Adding certificate verification is strongly advised. See: https://urllib3.readthedocs.io/en/1.26.x/advanced-usage.html#ssl-warnings\n",
      "  warnings.warn(\n"
     ]
    },
    {
     "name": "stdout",
     "output_type": "stream",
     "text": [
      "Namespace(audio_path='.\\\\20230606台南市政府第597市政會議 直播.mp3', model_path='openai/whisper-large-v2', use_gpu=True, language='Chinese', num_beams=1, batch_size=16, use_compile=False, task='transcribe', assistant_model_path=None, local_files_only=False, use_flash_attention_2=False, use_bettertransformer=False)\n"
     ]
    },
    {
     "name": "stderr",
     "output_type": "stream",
     "text": [
      "C:\\ProgramData\\anaconda3\\Lib\\site-packages\\urllib3\\connectionpool.py:1056: InsecureRequestWarning: Unverified HTTPS request is being made to host 'khproxyap.aseglobal.com'. Adding certificate verification is strongly advised. See: https://urllib3.readthedocs.io/en/1.26.x/advanced-usage.html#ssl-warnings\n",
      "  warnings.warn(\n",
      "C:\\ProgramData\\anaconda3\\Lib\\site-packages\\urllib3\\connectionpool.py:1056: InsecureRequestWarning: Unverified HTTPS request is being made to host 'khproxyap.aseglobal.com'. Adding certificate verification is strongly advised. See: https://urllib3.readthedocs.io/en/1.26.x/advanced-usage.html#ssl-warnings\n",
      "  warnings.warn(\n",
      "C:\\ProgramData\\anaconda3\\Lib\\site-packages\\urllib3\\connectionpool.py:1056: InsecureRequestWarning: Unverified HTTPS request is being made to host 'khproxyap.aseglobal.com'. Adding certificate verification is strongly advised. See: https://urllib3.readthedocs.io/en/1.26.x/advanced-usage.html#ssl-warnings\n",
      "  warnings.warn(\n",
      "C:\\ProgramData\\anaconda3\\Lib\\site-packages\\urllib3\\connectionpool.py:1056: InsecureRequestWarning: Unverified HTTPS request is being made to host 'khproxyap.aseglobal.com'. Adding certificate verification is strongly advised. See: https://urllib3.readthedocs.io/en/1.26.x/advanced-usage.html#ssl-warnings\n",
      "  warnings.warn(\n",
      "C:\\ProgramData\\anaconda3\\Lib\\site-packages\\urllib3\\connectionpool.py:1056: InsecureRequestWarning: Unverified HTTPS request is being made to host 'khproxyap.aseglobal.com'. Adding certificate verification is strongly advised. See: https://urllib3.readthedocs.io/en/1.26.x/advanced-usage.html#ssl-warnings\n",
      "  warnings.warn(\n",
      "Special tokens have been added in the vocabulary, make sure the associated word embeddings are fine-tuned or trained.\n",
      "C:\\ProgramData\\anaconda3\\Lib\\site-packages\\urllib3\\connectionpool.py:1056: InsecureRequestWarning: Unverified HTTPS request is being made to host 'khproxyap.aseglobal.com'. Adding certificate verification is strongly advised. See: https://urllib3.readthedocs.io/en/1.26.x/advanced-usage.html#ssl-warnings\n",
      "  warnings.warn(\n",
      "C:\\ProgramData\\anaconda3\\Lib\\site-packages\\urllib3\\connectionpool.py:1056: InsecureRequestWarning: Unverified HTTPS request is being made to host 'khproxyap.aseglobal.com'. Adding certificate verification is strongly advised. See: https://urllib3.readthedocs.io/en/1.26.x/advanced-usage.html#ssl-warnings\n",
      "  warnings.warn(\n",
      "C:\\ProgramData\\anaconda3\\Lib\\site-packages\\urllib3\\connectionpool.py:1056: InsecureRequestWarning: Unverified HTTPS request is being made to host 'khproxyap.aseglobal.com'. Adding certificate verification is strongly advised. See: https://urllib3.readthedocs.io/en/1.26.x/advanced-usage.html#ssl-warnings\n",
      "  warnings.warn(\n"
     ]
    },
    {
     "name": "stdout",
     "output_type": "stream",
     "text": [
      "Namespace(audio_path='.\\\\20230829台南市政府第609次市政會議 直播.mp3', model_path='openai/whisper-large-v2', use_gpu=True, language='Chinese', num_beams=1, batch_size=16, use_compile=False, task='transcribe', assistant_model_path=None, local_files_only=False, use_flash_attention_2=False, use_bettertransformer=False)\n"
     ]
    },
    {
     "name": "stderr",
     "output_type": "stream",
     "text": [
      "C:\\ProgramData\\anaconda3\\Lib\\site-packages\\urllib3\\connectionpool.py:1056: InsecureRequestWarning: Unverified HTTPS request is being made to host 'khproxyap.aseglobal.com'. Adding certificate verification is strongly advised. See: https://urllib3.readthedocs.io/en/1.26.x/advanced-usage.html#ssl-warnings\n",
      "  warnings.warn(\n",
      "C:\\ProgramData\\anaconda3\\Lib\\site-packages\\urllib3\\connectionpool.py:1056: InsecureRequestWarning: Unverified HTTPS request is being made to host 'khproxyap.aseglobal.com'. Adding certificate verification is strongly advised. See: https://urllib3.readthedocs.io/en/1.26.x/advanced-usage.html#ssl-warnings\n",
      "  warnings.warn(\n",
      "C:\\ProgramData\\anaconda3\\Lib\\site-packages\\urllib3\\connectionpool.py:1056: InsecureRequestWarning: Unverified HTTPS request is being made to host 'khproxyap.aseglobal.com'. Adding certificate verification is strongly advised. See: https://urllib3.readthedocs.io/en/1.26.x/advanced-usage.html#ssl-warnings\n",
      "  warnings.warn(\n",
      "C:\\ProgramData\\anaconda3\\Lib\\site-packages\\urllib3\\connectionpool.py:1056: InsecureRequestWarning: Unverified HTTPS request is being made to host 'khproxyap.aseglobal.com'. Adding certificate verification is strongly advised. See: https://urllib3.readthedocs.io/en/1.26.x/advanced-usage.html#ssl-warnings\n",
      "  warnings.warn(\n",
      "C:\\ProgramData\\anaconda3\\Lib\\site-packages\\urllib3\\connectionpool.py:1056: InsecureRequestWarning: Unverified HTTPS request is being made to host 'khproxyap.aseglobal.com'. Adding certificate verification is strongly advised. See: https://urllib3.readthedocs.io/en/1.26.x/advanced-usage.html#ssl-warnings\n",
      "  warnings.warn(\n",
      "Special tokens have been added in the vocabulary, make sure the associated word embeddings are fine-tuned or trained.\n",
      "C:\\ProgramData\\anaconda3\\Lib\\site-packages\\urllib3\\connectionpool.py:1056: InsecureRequestWarning: Unverified HTTPS request is being made to host 'khproxyap.aseglobal.com'. Adding certificate verification is strongly advised. See: https://urllib3.readthedocs.io/en/1.26.x/advanced-usage.html#ssl-warnings\n",
      "  warnings.warn(\n",
      "C:\\ProgramData\\anaconda3\\Lib\\site-packages\\urllib3\\connectionpool.py:1056: InsecureRequestWarning: Unverified HTTPS request is being made to host 'khproxyap.aseglobal.com'. Adding certificate verification is strongly advised. See: https://urllib3.readthedocs.io/en/1.26.x/advanced-usage.html#ssl-warnings\n",
      "  warnings.warn(\n",
      "C:\\ProgramData\\anaconda3\\Lib\\site-packages\\urllib3\\connectionpool.py:1056: InsecureRequestWarning: Unverified HTTPS request is being made to host 'khproxyap.aseglobal.com'. Adding certificate verification is strongly advised. See: https://urllib3.readthedocs.io/en/1.26.x/advanced-usage.html#ssl-warnings\n",
      "  warnings.warn(\n"
     ]
    },
    {
     "name": "stdout",
     "output_type": "stream",
     "text": [
      "Namespace(audio_path='.\\\\20231225 台南市政府 第626次市政會議 直播.mp3', model_path='openai/whisper-large-v2', use_gpu=True, language='Chinese', num_beams=1, batch_size=16, use_compile=False, task='transcribe', assistant_model_path=None, local_files_only=False, use_flash_attention_2=False, use_bettertransformer=False)\n"
     ]
    },
    {
     "name": "stderr",
     "output_type": "stream",
     "text": [
      "C:\\ProgramData\\anaconda3\\Lib\\site-packages\\urllib3\\connectionpool.py:1056: InsecureRequestWarning: Unverified HTTPS request is being made to host 'khproxyap.aseglobal.com'. Adding certificate verification is strongly advised. See: https://urllib3.readthedocs.io/en/1.26.x/advanced-usage.html#ssl-warnings\n",
      "  warnings.warn(\n",
      "C:\\ProgramData\\anaconda3\\Lib\\site-packages\\urllib3\\connectionpool.py:1056: InsecureRequestWarning: Unverified HTTPS request is being made to host 'khproxyap.aseglobal.com'. Adding certificate verification is strongly advised. See: https://urllib3.readthedocs.io/en/1.26.x/advanced-usage.html#ssl-warnings\n",
      "  warnings.warn(\n",
      "C:\\ProgramData\\anaconda3\\Lib\\site-packages\\urllib3\\connectionpool.py:1056: InsecureRequestWarning: Unverified HTTPS request is being made to host 'khproxyap.aseglobal.com'. Adding certificate verification is strongly advised. See: https://urllib3.readthedocs.io/en/1.26.x/advanced-usage.html#ssl-warnings\n",
      "  warnings.warn(\n",
      "C:\\ProgramData\\anaconda3\\Lib\\site-packages\\urllib3\\connectionpool.py:1056: InsecureRequestWarning: Unverified HTTPS request is being made to host 'khproxyap.aseglobal.com'. Adding certificate verification is strongly advised. See: https://urllib3.readthedocs.io/en/1.26.x/advanced-usage.html#ssl-warnings\n",
      "  warnings.warn(\n",
      "C:\\ProgramData\\anaconda3\\Lib\\site-packages\\urllib3\\connectionpool.py:1056: InsecureRequestWarning: Unverified HTTPS request is being made to host 'khproxyap.aseglobal.com'. Adding certificate verification is strongly advised. See: https://urllib3.readthedocs.io/en/1.26.x/advanced-usage.html#ssl-warnings\n",
      "  warnings.warn(\n",
      "Special tokens have been added in the vocabulary, make sure the associated word embeddings are fine-tuned or trained.\n",
      "C:\\ProgramData\\anaconda3\\Lib\\site-packages\\urllib3\\connectionpool.py:1056: InsecureRequestWarning: Unverified HTTPS request is being made to host 'khproxyap.aseglobal.com'. Adding certificate verification is strongly advised. See: https://urllib3.readthedocs.io/en/1.26.x/advanced-usage.html#ssl-warnings\n",
      "  warnings.warn(\n",
      "C:\\ProgramData\\anaconda3\\Lib\\site-packages\\urllib3\\connectionpool.py:1056: InsecureRequestWarning: Unverified HTTPS request is being made to host 'khproxyap.aseglobal.com'. Adding certificate verification is strongly advised. See: https://urllib3.readthedocs.io/en/1.26.x/advanced-usage.html#ssl-warnings\n",
      "  warnings.warn(\n",
      "C:\\ProgramData\\anaconda3\\Lib\\site-packages\\urllib3\\connectionpool.py:1056: InsecureRequestWarning: Unverified HTTPS request is being made to host 'khproxyap.aseglobal.com'. Adding certificate verification is strongly advised. See: https://urllib3.readthedocs.io/en/1.26.x/advanced-usage.html#ssl-warnings\n",
      "  warnings.warn(\n"
     ]
    },
    {
     "name": "stdout",
     "output_type": "stream",
     "text": [
      "Namespace(audio_path='.\\\\20240130 台南市政府 第631次市政會議 直播.mp3', model_path='openai/whisper-large-v2', use_gpu=True, language='Chinese', num_beams=1, batch_size=16, use_compile=False, task='transcribe', assistant_model_path=None, local_files_only=False, use_flash_attention_2=False, use_bettertransformer=False)\n"
     ]
    },
    {
     "name": "stderr",
     "output_type": "stream",
     "text": [
      "C:\\ProgramData\\anaconda3\\Lib\\site-packages\\urllib3\\connectionpool.py:1056: InsecureRequestWarning: Unverified HTTPS request is being made to host 'khproxyap.aseglobal.com'. Adding certificate verification is strongly advised. See: https://urllib3.readthedocs.io/en/1.26.x/advanced-usage.html#ssl-warnings\n",
      "  warnings.warn(\n",
      "C:\\ProgramData\\anaconda3\\Lib\\site-packages\\urllib3\\connectionpool.py:1056: InsecureRequestWarning: Unverified HTTPS request is being made to host 'khproxyap.aseglobal.com'. Adding certificate verification is strongly advised. See: https://urllib3.readthedocs.io/en/1.26.x/advanced-usage.html#ssl-warnings\n",
      "  warnings.warn(\n",
      "C:\\ProgramData\\anaconda3\\Lib\\site-packages\\urllib3\\connectionpool.py:1056: InsecureRequestWarning: Unverified HTTPS request is being made to host 'khproxyap.aseglobal.com'. Adding certificate verification is strongly advised. See: https://urllib3.readthedocs.io/en/1.26.x/advanced-usage.html#ssl-warnings\n",
      "  warnings.warn(\n",
      "C:\\ProgramData\\anaconda3\\Lib\\site-packages\\urllib3\\connectionpool.py:1056: InsecureRequestWarning: Unverified HTTPS request is being made to host 'khproxyap.aseglobal.com'. Adding certificate verification is strongly advised. See: https://urllib3.readthedocs.io/en/1.26.x/advanced-usage.html#ssl-warnings\n",
      "  warnings.warn(\n",
      "C:\\ProgramData\\anaconda3\\Lib\\site-packages\\urllib3\\connectionpool.py:1056: InsecureRequestWarning: Unverified HTTPS request is being made to host 'khproxyap.aseglobal.com'. Adding certificate verification is strongly advised. See: https://urllib3.readthedocs.io/en/1.26.x/advanced-usage.html#ssl-warnings\n",
      "  warnings.warn(\n",
      "Special tokens have been added in the vocabulary, make sure the associated word embeddings are fine-tuned or trained.\n",
      "C:\\ProgramData\\anaconda3\\Lib\\site-packages\\urllib3\\connectionpool.py:1056: InsecureRequestWarning: Unverified HTTPS request is being made to host 'khproxyap.aseglobal.com'. Adding certificate verification is strongly advised. See: https://urllib3.readthedocs.io/en/1.26.x/advanced-usage.html#ssl-warnings\n",
      "  warnings.warn(\n",
      "C:\\ProgramData\\anaconda3\\Lib\\site-packages\\urllib3\\connectionpool.py:1056: InsecureRequestWarning: Unverified HTTPS request is being made to host 'khproxyap.aseglobal.com'. Adding certificate verification is strongly advised. See: https://urllib3.readthedocs.io/en/1.26.x/advanced-usage.html#ssl-warnings\n",
      "  warnings.warn(\n",
      "C:\\ProgramData\\anaconda3\\Lib\\site-packages\\urllib3\\connectionpool.py:1056: InsecureRequestWarning: Unverified HTTPS request is being made to host 'khproxyap.aseglobal.com'. Adding certificate verification is strongly advised. See: https://urllib3.readthedocs.io/en/1.26.x/advanced-usage.html#ssl-warnings\n",
      "  warnings.warn(\n"
     ]
    }
   ],
   "source": [
    "\n",
    "from glob import glob\n",
    "\n",
    "mp3_files = glob('./*.mp3')\n",
    "mp3_files = [mp3 for mp3 in mp3_files if '南市政府' in mp3]\n",
    "whisper_model = 'openai/whisper-large-v2'\n",
    "\n",
    "transcripts = []\n",
    "for mp3 in mp3_files:\n",
    "    if '南市政府' in mp3:\n",
    "        transcripts.append(infer_obj(audio_path = mp3 , model_path = whisper_model).infer())\n",
    "        file = mp3.replace('.mp3' , '.txt')\n",
    "        with open(file , 'w' , encoding='utf8') as f:\n",
    "            f.write(transcripts[-1])"
   ]
  },
  {
   "cell_type": "markdown",
   "id": "4eb3ab2b",
   "metadata": {},
   "source": [
    "<h1><font color='blue'>2. 移除重複出現的字串</font></h1>"
   ]
  },
  {
   "cell_type": "code",
   "execution_count": 10,
   "id": "714df518",
   "metadata": {},
   "outputs": [],
   "source": [
    "\n",
    "def remove_repeated_words(text): \n",
    "    pattern = r'(\\w{2,100})\\1'\n",
    "    while True:\n",
    "        new_text = re.sub(pattern, r'\\1', text) \n",
    "        if new_text == text: break \n",
    "        text = new_text \n",
    "    return text\n",
    "\n",
    "new_transcript = []\n",
    "for transcript in transcripts:\n",
    "    new_transcript.append(remove_repeated_words(transcript))"
   ]
  },
  {
   "cell_type": "markdown",
   "id": "ba1fb3fe",
   "metadata": {},
   "source": [
    "<h1><font color='blue'>3. 取得會議記錄</font></h1>"
   ]
  },
  {
   "cell_type": "code",
   "execution_count": 11,
   "id": "e969316c",
   "metadata": {
    "scrolled": true
   },
   "outputs": [
    {
     "data": {
      "application/vnd.jupyter.widget-view+json": {
       "model_id": "734e23a19cac430bb961bc40e1e00505",
       "version_major": 2,
       "version_minor": 0
      },
      "text/plain": [
       "Loading checkpoint shards:   0%|          | 0/2 [00:00<?, ?it/s]"
      ]
     },
     "metadata": {},
     "output_type": "display_data"
    },
    {
     "name": "stderr",
     "output_type": "stream",
     "text": [
      "Special tokens have been added in the vocabulary, make sure the associated word embeddings are fine-tuned or trained.\n",
      "  0%|                                                                                           | 0/19 [00:00<?, ?it/s]Asking to truncate to max_length but no maximum length is provided and the model has no predefined maximum length. Default to no truncation.\n",
      "Setting `pad_token_id` to `eos_token_id`:2 for open-end generation.\n",
      "C:\\ProgramData\\anaconda3\\Lib\\site-packages\\transformers\\generation\\utils.py:1477: UserWarning: You are calling .generate() with the `input_ids` being on a device type different than your model's device. `input_ids` is on cpu, whereas the model is on cuda. You may experience unexpected behaviors or slower generation. Please make sure that you have put `input_ids` to the correct device by calling for example input_ids = input_ids.to('cuda') before running `.generate()`.\n",
      "  warnings.warn(\n",
      "  5%|████▎                                                                              | 1/19 [00:27<08:21, 27.83s/it]Setting `pad_token_id` to `eos_token_id`:2 for open-end generation.\n",
      " 11%|████████▋                                                                          | 2/19 [00:52<07:25, 26.18s/it]Setting `pad_token_id` to `eos_token_id`:2 for open-end generation.\n",
      " 16%|█████████████                                                                      | 3/19 [01:11<06:02, 22.67s/it]Setting `pad_token_id` to `eos_token_id`:2 for open-end generation.\n",
      " 21%|█████████████████▍                                                                 | 4/19 [01:27<04:58, 19.90s/it]Setting `pad_token_id` to `eos_token_id`:2 for open-end generation.\n",
      " 26%|█████████████████████▊                                                             | 5/19 [01:46<04:35, 19.66s/it]Setting `pad_token_id` to `eos_token_id`:2 for open-end generation.\n",
      " 32%|██████████████████████████▏                                                        | 6/19 [02:07<04:24, 20.37s/it]Setting `pad_token_id` to `eos_token_id`:2 for open-end generation.\n",
      " 37%|██████████████████████████████▌                                                    | 7/19 [02:25<03:53, 19.44s/it]Setting `pad_token_id` to `eos_token_id`:2 for open-end generation.\n",
      " 42%|██████████████████████████████████▉                                                | 8/19 [02:47<03:43, 20.30s/it]Setting `pad_token_id` to `eos_token_id`:2 for open-end generation.\n",
      " 47%|███████████████████████████████████████▎                                           | 9/19 [03:00<03:00, 18.08s/it]Setting `pad_token_id` to `eos_token_id`:2 for open-end generation.\n",
      " 53%|███████████████████████████████████████████▏                                      | 10/19 [03:17<02:39, 17.75s/it]Setting `pad_token_id` to `eos_token_id`:2 for open-end generation.\n",
      " 58%|███████████████████████████████████████████████▍                                  | 11/19 [03:37<02:26, 18.31s/it]Setting `pad_token_id` to `eos_token_id`:2 for open-end generation.\n",
      " 63%|███████████████████████████████████████████████████▊                              | 12/19 [03:41<01:37, 13.92s/it]Setting `pad_token_id` to `eos_token_id`:2 for open-end generation.\n",
      " 68%|████████████████████████████████████████████████████████                          | 13/19 [04:02<01:36, 16.16s/it]Setting `pad_token_id` to `eos_token_id`:2 for open-end generation.\n",
      " 74%|████████████████████████████████████████████████████████████▍                     | 14/19 [04:25<01:31, 18.22s/it]Setting `pad_token_id` to `eos_token_id`:2 for open-end generation.\n",
      " 79%|████████████████████████████████████████████████████████████████▋                 | 15/19 [04:44<01:13, 18.32s/it]Setting `pad_token_id` to `eos_token_id`:2 for open-end generation.\n",
      " 84%|█████████████████████████████████████████████████████████████████████             | 16/19 [04:49<00:43, 14.39s/it]Setting `pad_token_id` to `eos_token_id`:2 for open-end generation.\n",
      " 89%|█████████████████████████████████████████████████████████████████████████▎        | 17/19 [05:11<00:33, 16.81s/it]Setting `pad_token_id` to `eos_token_id`:2 for open-end generation.\n",
      " 95%|█████████████████████████████████████████████████████████████████████████████▋    | 18/19 [05:21<00:14, 14.78s/it]Setting `pad_token_id` to `eos_token_id`:2 for open-end generation.\n",
      "100%|██████████████████████████████████████████████████████████████████████████████████| 19/19 [05:41<00:00, 17.95s/it]\n",
      "C:\\ProgramData\\anaconda3\\Lib\\site-packages\\pip_system_certs\\wrapt_requests.py:71: UserWarning: Failed to patch SSL settings for unverified requests (unsupported version of urllib3?)\n",
      "This may lead to errors when urllib3 tries to modify verify_mode.\n",
      "Please report an issue at https://gitlab.com/alelec/pip-system-certs with your\n",
      "python version included in the description\n",
      "\n",
      "  warnings.warn(\n",
      "C:\\ProgramData\\anaconda3\\Lib\\site-packages\\urllib3\\connectionpool.py:1056: InsecureRequestWarning: Unverified HTTPS request is being made to host 'khproxyap.aseglobal.com'. Adding certificate verification is strongly advised. See: https://urllib3.readthedocs.io/en/1.26.x/advanced-usage.html#ssl-warnings\n",
      "  warnings.warn(\n",
      "C:\\ProgramData\\anaconda3\\Lib\\site-packages\\urllib3\\connectionpool.py:1056: InsecureRequestWarning: Unverified HTTPS request is being made to host 'khproxyap.aseglobal.com'. Adding certificate verification is strongly advised. See: https://urllib3.readthedocs.io/en/1.26.x/advanced-usage.html#ssl-warnings\n",
      "  warnings.warn(\n",
      "C:\\ProgramData\\anaconda3\\Lib\\site-packages\\urllib3\\connectionpool.py:1056: InsecureRequestWarning: Unverified HTTPS request is being made to host 'khproxyap.aseglobal.com'. Adding certificate verification is strongly advised. See: https://urllib3.readthedocs.io/en/1.26.x/advanced-usage.html#ssl-warnings\n",
      "  warnings.warn(\n",
      "C:\\ProgramData\\anaconda3\\Lib\\site-packages\\urllib3\\connectionpool.py:1056: InsecureRequestWarning: Unverified HTTPS request is being made to host 'khproxyap.aseglobal.com'. Adding certificate verification is strongly advised. See: https://urllib3.readthedocs.io/en/1.26.x/advanced-usage.html#ssl-warnings\n",
      "  warnings.warn(\n",
      "C:\\ProgramData\\anaconda3\\Lib\\site-packages\\urllib3\\connectionpool.py:1056: InsecureRequestWarning: Unverified HTTPS request is being made to host 'khproxyap.aseglobal.com'. Adding certificate verification is strongly advised. See: https://urllib3.readthedocs.io/en/1.26.x/advanced-usage.html#ssl-warnings\n",
      "  warnings.warn(\n",
      "C:\\ProgramData\\anaconda3\\Lib\\site-packages\\urllib3\\connectionpool.py:1056: InsecureRequestWarning: Unverified HTTPS request is being made to host 'khproxyap.aseglobal.com'. Adding certificate verification is strongly advised. See: https://urllib3.readthedocs.io/en/1.26.x/advanced-usage.html#ssl-warnings\n",
      "  warnings.warn(\n",
      "C:\\ProgramData\\anaconda3\\Lib\\site-packages\\torch\\_utils.py:831: UserWarning: TypedStorage is deprecated. It will be removed in the future and UntypedStorage will be the only storage class. This should only matter to you if you are using storages directly.  To access UntypedStorage directly, use tensor.untyped_storage() instead of tensor.storage()\n",
      "  return self.fget.__get__(instance, owner)()\n",
      "C:\\ProgramData\\anaconda3\\Lib\\site-packages\\urllib3\\connectionpool.py:1056: InsecureRequestWarning: Unverified HTTPS request is being made to host 'khproxyap.aseglobal.com'. Adding certificate verification is strongly advised. See: https://urllib3.readthedocs.io/en/1.26.x/advanced-usage.html#ssl-warnings\n",
      "  warnings.warn(\n",
      "C:\\ProgramData\\anaconda3\\Lib\\site-packages\\urllib3\\connectionpool.py:1056: InsecureRequestWarning: Unverified HTTPS request is being made to host 'khproxyap.aseglobal.com'. Adding certificate verification is strongly advised. See: https://urllib3.readthedocs.io/en/1.26.x/advanced-usage.html#ssl-warnings\n",
      "  warnings.warn(\n",
      "C:\\ProgramData\\anaconda3\\Lib\\site-packages\\urllib3\\connectionpool.py:1056: InsecureRequestWarning: Unverified HTTPS request is being made to host 'khproxyap.aseglobal.com'. Adding certificate verification is strongly advised. See: https://urllib3.readthedocs.io/en/1.26.x/advanced-usage.html#ssl-warnings\n",
      "  warnings.warn(\n",
      "Setting `pad_token_id` to `eos_token_id`:2 for open-end generation.\n",
      "C:\\ProgramData\\anaconda3\\Lib\\site-packages\\urllib3\\connectionpool.py:1056: InsecureRequestWarning: Unverified HTTPS request is being made to host 'khproxyap.aseglobal.com'. Adding certificate verification is strongly advised. See: https://urllib3.readthedocs.io/en/1.26.x/advanced-usage.html#ssl-warnings\n",
      "  warnings.warn(\n"
     ]
    },
    {
     "name": "stdout",
     "output_type": "stream",
     "text": [
      "'20221025 臺南市政府第566次市政會議.mp3 , spend_time : 387.27s'\n"
     ]
    },
    {
     "data": {
      "application/vnd.jupyter.widget-view+json": {
       "model_id": "f6d34b03c9cf48c89e60a830e3b0d6e7",
       "version_major": 2,
       "version_minor": 0
      },
      "text/plain": [
       "Loading checkpoint shards:   0%|          | 0/2 [00:00<?, ?it/s]"
      ]
     },
     "metadata": {},
     "output_type": "display_data"
    },
    {
     "name": "stderr",
     "output_type": "stream",
     "text": [
      "Special tokens have been added in the vocabulary, make sure the associated word embeddings are fine-tuned or trained.\n",
      "  0%|                                                                                           | 0/20 [00:00<?, ?it/s]Asking to truncate to max_length but no maximum length is provided and the model has no predefined maximum length. Default to no truncation.\n",
      "Setting `pad_token_id` to `eos_token_id`:2 for open-end generation.\n",
      "  5%|████▏                                                                              | 1/20 [00:22<07:02, 22.25s/it]Setting `pad_token_id` to `eos_token_id`:2 for open-end generation.\n",
      " 10%|████████▎                                                                          | 2/20 [00:32<04:37, 15.41s/it]Setting `pad_token_id` to `eos_token_id`:2 for open-end generation.\n",
      " 15%|████████████▍                                                                      | 3/20 [00:54<05:06, 18.03s/it]Setting `pad_token_id` to `eos_token_id`:2 for open-end generation.\n",
      " 20%|████████████████▌                                                                  | 4/20 [01:15<05:13, 19.57s/it]Setting `pad_token_id` to `eos_token_id`:2 for open-end generation.\n",
      " 25%|████████████████████▊                                                              | 5/20 [01:23<03:46, 15.10s/it]Setting `pad_token_id` to `eos_token_id`:2 for open-end generation.\n",
      " 30%|████████████████████████▉                                                          | 6/20 [01:44<03:59, 17.13s/it]Setting `pad_token_id` to `eos_token_id`:2 for open-end generation.\n",
      " 35%|█████████████████████████████                                                      | 7/20 [02:06<04:03, 18.73s/it]Setting `pad_token_id` to `eos_token_id`:2 for open-end generation.\n",
      " 40%|█████████████████████████████████▏                                                 | 8/20 [02:10<02:47, 14.00s/it]Setting `pad_token_id` to `eos_token_id`:2 for open-end generation.\n",
      " 45%|█████████████████████████████████████▎                                             | 9/20 [02:32<03:03, 16.70s/it]Setting `pad_token_id` to `eos_token_id`:2 for open-end generation.\n",
      " 50%|█████████████████████████████████████████                                         | 10/20 [02:54<03:01, 18.17s/it]Setting `pad_token_id` to `eos_token_id`:2 for open-end generation.\n",
      " 55%|█████████████████████████████████████████████                                     | 11/20 [03:14<02:49, 18.87s/it]Setting `pad_token_id` to `eos_token_id`:2 for open-end generation.\n",
      " 60%|█████████████████████████████████████████████████▏                                | 12/20 [03:21<02:01, 15.14s/it]Setting `pad_token_id` to `eos_token_id`:2 for open-end generation.\n",
      " 65%|█████████████████████████████████████████████████████▎                            | 13/20 [03:43<02:00, 17.24s/it]Setting `pad_token_id` to `eos_token_id`:2 for open-end generation.\n",
      " 70%|█████████████████████████████████████████████████████████▍                        | 14/20 [04:05<01:52, 18.77s/it]Setting `pad_token_id` to `eos_token_id`:2 for open-end generation.\n",
      " 75%|█████████████████████████████████████████████████████████████▌                    | 15/20 [04:09<01:11, 14.31s/it]Setting `pad_token_id` to `eos_token_id`:2 for open-end generation.\n",
      " 80%|█████████████████████████████████████████████████████████████████▌                | 16/20 [04:31<01:05, 16.46s/it]Setting `pad_token_id` to `eos_token_id`:2 for open-end generation.\n",
      " 85%|█████████████████████████████████████████████████████████████████████▋            | 17/20 [04:43<00:45, 15.16s/it]Setting `pad_token_id` to `eos_token_id`:2 for open-end generation.\n",
      " 90%|█████████████████████████████████████████████████████████████████████████▊        | 18/20 [05:04<00:34, 17.01s/it]Setting `pad_token_id` to `eos_token_id`:2 for open-end generation.\n",
      " 95%|█████████████████████████████████████████████████████████████████████████████▉    | 19/20 [05:25<00:18, 18.11s/it]Setting `pad_token_id` to `eos_token_id`:2 for open-end generation.\n",
      "100%|██████████████████████████████████████████████████████████████████████████████████| 20/20 [05:43<00:00, 17.15s/it]\n",
      "C:\\ProgramData\\anaconda3\\Lib\\site-packages\\urllib3\\connectionpool.py:1056: InsecureRequestWarning: Unverified HTTPS request is being made to host 'khproxyap.aseglobal.com'. Adding certificate verification is strongly advised. See: https://urllib3.readthedocs.io/en/1.26.x/advanced-usage.html#ssl-warnings\n",
      "  warnings.warn(\n",
      "C:\\ProgramData\\anaconda3\\Lib\\site-packages\\urllib3\\connectionpool.py:1056: InsecureRequestWarning: Unverified HTTPS request is being made to host 'khproxyap.aseglobal.com'. Adding certificate verification is strongly advised. See: https://urllib3.readthedocs.io/en/1.26.x/advanced-usage.html#ssl-warnings\n",
      "  warnings.warn(\n",
      "C:\\ProgramData\\anaconda3\\Lib\\site-packages\\urllib3\\connectionpool.py:1056: InsecureRequestWarning: Unverified HTTPS request is being made to host 'khproxyap.aseglobal.com'. Adding certificate verification is strongly advised. See: https://urllib3.readthedocs.io/en/1.26.x/advanced-usage.html#ssl-warnings\n",
      "  warnings.warn(\n",
      "C:\\ProgramData\\anaconda3\\Lib\\site-packages\\urllib3\\connectionpool.py:1056: InsecureRequestWarning: Unverified HTTPS request is being made to host 'khproxyap.aseglobal.com'. Adding certificate verification is strongly advised. See: https://urllib3.readthedocs.io/en/1.26.x/advanced-usage.html#ssl-warnings\n",
      "  warnings.warn(\n",
      "C:\\ProgramData\\anaconda3\\Lib\\site-packages\\urllib3\\connectionpool.py:1056: InsecureRequestWarning: Unverified HTTPS request is being made to host 'khproxyap.aseglobal.com'. Adding certificate verification is strongly advised. See: https://urllib3.readthedocs.io/en/1.26.x/advanced-usage.html#ssl-warnings\n",
      "  warnings.warn(\n",
      "C:\\ProgramData\\anaconda3\\Lib\\site-packages\\urllib3\\connectionpool.py:1056: InsecureRequestWarning: Unverified HTTPS request is being made to host 'khproxyap.aseglobal.com'. Adding certificate verification is strongly advised. See: https://urllib3.readthedocs.io/en/1.26.x/advanced-usage.html#ssl-warnings\n",
      "  warnings.warn(\n",
      "C:\\ProgramData\\anaconda3\\Lib\\site-packages\\urllib3\\connectionpool.py:1056: InsecureRequestWarning: Unverified HTTPS request is being made to host 'khproxyap.aseglobal.com'. Adding certificate verification is strongly advised. See: https://urllib3.readthedocs.io/en/1.26.x/advanced-usage.html#ssl-warnings\n",
      "  warnings.warn(\n",
      "C:\\ProgramData\\anaconda3\\Lib\\site-packages\\urllib3\\connectionpool.py:1056: InsecureRequestWarning: Unverified HTTPS request is being made to host 'khproxyap.aseglobal.com'. Adding certificate verification is strongly advised. See: https://urllib3.readthedocs.io/en/1.26.x/advanced-usage.html#ssl-warnings\n",
      "  warnings.warn(\n",
      "C:\\ProgramData\\anaconda3\\Lib\\site-packages\\urllib3\\connectionpool.py:1056: InsecureRequestWarning: Unverified HTTPS request is being made to host 'khproxyap.aseglobal.com'. Adding certificate verification is strongly advised. See: https://urllib3.readthedocs.io/en/1.26.x/advanced-usage.html#ssl-warnings\n",
      "  warnings.warn(\n",
      "Setting `pad_token_id` to `eos_token_id`:2 for open-end generation.\n"
     ]
    },
    {
     "name": "stdout",
     "output_type": "stream",
     "text": [
      "'20230606台南市政府第597市政會議 直播.mp3 , spend_time : 387.18s'\n"
     ]
    },
    {
     "data": {
      "application/vnd.jupyter.widget-view+json": {
       "model_id": "9e5b59711382456dbf6ce21bb49cd040",
       "version_major": 2,
       "version_minor": 0
      },
      "text/plain": [
       "Loading checkpoint shards:   0%|          | 0/2 [00:00<?, ?it/s]"
      ]
     },
     "metadata": {},
     "output_type": "display_data"
    },
    {
     "name": "stderr",
     "output_type": "stream",
     "text": [
      "Special tokens have been added in the vocabulary, make sure the associated word embeddings are fine-tuned or trained.\n",
      "  0%|                                                                                           | 0/17 [00:00<?, ?it/s]Asking to truncate to max_length but no maximum length is provided and the model has no predefined maximum length. Default to no truncation.\n",
      "Setting `pad_token_id` to `eos_token_id`:2 for open-end generation.\n",
      "  6%|████▉                                                                              | 1/17 [00:16<04:26, 16.63s/it]Setting `pad_token_id` to `eos_token_id`:2 for open-end generation.\n",
      " 12%|█████████▊                                                                         | 2/17 [00:40<05:11, 20.74s/it]Setting `pad_token_id` to `eos_token_id`:2 for open-end generation.\n",
      " 18%|██████████████▋                                                                    | 3/17 [00:54<04:08, 17.74s/it]Setting `pad_token_id` to `eos_token_id`:2 for open-end generation.\n",
      " 24%|███████████████████▌                                                               | 4/17 [01:09<03:34, 16.51s/it]Setting `pad_token_id` to `eos_token_id`:2 for open-end generation.\n",
      " 29%|████████████████████████▍                                                          | 5/17 [01:31<03:43, 18.66s/it]Setting `pad_token_id` to `eos_token_id`:2 for open-end generation.\n",
      " 35%|█████████████████████████████▎                                                     | 6/17 [01:54<03:40, 20.03s/it]Setting `pad_token_id` to `eos_token_id`:2 for open-end generation.\n",
      " 41%|██████████████████████████████████▏                                                | 7/17 [02:15<03:25, 20.52s/it]Setting `pad_token_id` to `eos_token_id`:2 for open-end generation.\n",
      " 47%|███████████████████████████████████████                                            | 8/17 [02:22<02:25, 16.17s/it]Setting `pad_token_id` to `eos_token_id`:2 for open-end generation.\n",
      " 53%|███████████████████████████████████████████▉                                       | 9/17 [02:43<02:21, 17.75s/it]Setting `pad_token_id` to `eos_token_id`:2 for open-end generation.\n",
      " 59%|████████████████████████████████████████████████▏                                 | 10/17 [03:05<02:13, 19.01s/it]Setting `pad_token_id` to `eos_token_id`:2 for open-end generation.\n",
      " 65%|█████████████████████████████████████████████████████                             | 11/17 [03:13<01:34, 15.72s/it]Setting `pad_token_id` to `eos_token_id`:2 for open-end generation.\n",
      " 71%|█████████████████████████████████████████████████████████▉                        | 12/17 [03:35<01:27, 17.59s/it]Setting `pad_token_id` to `eos_token_id`:2 for open-end generation.\n",
      " 76%|██████████████████████████████████████████████████████████████▋                   | 13/17 [03:56<01:14, 18.63s/it]Setting `pad_token_id` to `eos_token_id`:2 for open-end generation.\n",
      " 82%|███████████████████████████████████████████████████████████████████▌              | 14/17 [04:13<00:54, 18.04s/it]Setting `pad_token_id` to `eos_token_id`:2 for open-end generation.\n",
      " 88%|████████████████████████████████████████████████████████████████████████▎         | 15/17 [04:35<00:38, 19.40s/it]Setting `pad_token_id` to `eos_token_id`:2 for open-end generation.\n",
      " 94%|█████████████████████████████████████████████████████████████████████████████▏    | 16/17 [04:39<00:14, 14.58s/it]Setting `pad_token_id` to `eos_token_id`:2 for open-end generation.\n",
      "100%|██████████████████████████████████████████████████████████████████████████████████| 17/17 [04:56<00:00, 17.47s/it]\n",
      "C:\\ProgramData\\anaconda3\\Lib\\site-packages\\urllib3\\connectionpool.py:1056: InsecureRequestWarning: Unverified HTTPS request is being made to host 'khproxyap.aseglobal.com'. Adding certificate verification is strongly advised. See: https://urllib3.readthedocs.io/en/1.26.x/advanced-usage.html#ssl-warnings\n",
      "  warnings.warn(\n",
      "C:\\ProgramData\\anaconda3\\Lib\\site-packages\\urllib3\\connectionpool.py:1056: InsecureRequestWarning: Unverified HTTPS request is being made to host 'khproxyap.aseglobal.com'. Adding certificate verification is strongly advised. See: https://urllib3.readthedocs.io/en/1.26.x/advanced-usage.html#ssl-warnings\n",
      "  warnings.warn(\n",
      "C:\\ProgramData\\anaconda3\\Lib\\site-packages\\urllib3\\connectionpool.py:1056: InsecureRequestWarning: Unverified HTTPS request is being made to host 'khproxyap.aseglobal.com'. Adding certificate verification is strongly advised. See: https://urllib3.readthedocs.io/en/1.26.x/advanced-usage.html#ssl-warnings\n",
      "  warnings.warn(\n",
      "C:\\ProgramData\\anaconda3\\Lib\\site-packages\\urllib3\\connectionpool.py:1056: InsecureRequestWarning: Unverified HTTPS request is being made to host 'khproxyap.aseglobal.com'. Adding certificate verification is strongly advised. See: https://urllib3.readthedocs.io/en/1.26.x/advanced-usage.html#ssl-warnings\n",
      "  warnings.warn(\n",
      "C:\\ProgramData\\anaconda3\\Lib\\site-packages\\urllib3\\connectionpool.py:1056: InsecureRequestWarning: Unverified HTTPS request is being made to host 'khproxyap.aseglobal.com'. Adding certificate verification is strongly advised. See: https://urllib3.readthedocs.io/en/1.26.x/advanced-usage.html#ssl-warnings\n",
      "  warnings.warn(\n",
      "C:\\ProgramData\\anaconda3\\Lib\\site-packages\\urllib3\\connectionpool.py:1056: InsecureRequestWarning: Unverified HTTPS request is being made to host 'khproxyap.aseglobal.com'. Adding certificate verification is strongly advised. See: https://urllib3.readthedocs.io/en/1.26.x/advanced-usage.html#ssl-warnings\n",
      "  warnings.warn(\n",
      "C:\\ProgramData\\anaconda3\\Lib\\site-packages\\urllib3\\connectionpool.py:1056: InsecureRequestWarning: Unverified HTTPS request is being made to host 'khproxyap.aseglobal.com'. Adding certificate verification is strongly advised. See: https://urllib3.readthedocs.io/en/1.26.x/advanced-usage.html#ssl-warnings\n",
      "  warnings.warn(\n",
      "C:\\ProgramData\\anaconda3\\Lib\\site-packages\\urllib3\\connectionpool.py:1056: InsecureRequestWarning: Unverified HTTPS request is being made to host 'khproxyap.aseglobal.com'. Adding certificate verification is strongly advised. See: https://urllib3.readthedocs.io/en/1.26.x/advanced-usage.html#ssl-warnings\n",
      "  warnings.warn(\n",
      "C:\\ProgramData\\anaconda3\\Lib\\site-packages\\urllib3\\connectionpool.py:1056: InsecureRequestWarning: Unverified HTTPS request is being made to host 'khproxyap.aseglobal.com'. Adding certificate verification is strongly advised. See: https://urllib3.readthedocs.io/en/1.26.x/advanced-usage.html#ssl-warnings\n",
      "  warnings.warn(\n",
      "Setting `pad_token_id` to `eos_token_id`:2 for open-end generation.\n"
     ]
    },
    {
     "name": "stdout",
     "output_type": "stream",
     "text": [
      "'20230829台南市政府第609次市政會議 直播.mp3 , spend_time : 327.30s'\n"
     ]
    },
    {
     "data": {
      "application/vnd.jupyter.widget-view+json": {
       "model_id": "82a5bc20aac8486892690934f934c2b4",
       "version_major": 2,
       "version_minor": 0
      },
      "text/plain": [
       "Loading checkpoint shards:   0%|          | 0/2 [00:00<?, ?it/s]"
      ]
     },
     "metadata": {},
     "output_type": "display_data"
    },
    {
     "name": "stderr",
     "output_type": "stream",
     "text": [
      "Special tokens have been added in the vocabulary, make sure the associated word embeddings are fine-tuned or trained.\n",
      "  0%|                                                                                           | 0/28 [00:00<?, ?it/s]Asking to truncate to max_length but no maximum length is provided and the model has no predefined maximum length. Default to no truncation.\n",
      "Setting `pad_token_id` to `eos_token_id`:2 for open-end generation.\n",
      "  4%|██▉                                                                                | 1/28 [00:13<06:04, 13.50s/it]Setting `pad_token_id` to `eos_token_id`:2 for open-end generation.\n",
      "  7%|█████▉                                                                             | 2/28 [00:24<05:10, 11.93s/it]Setting `pad_token_id` to `eos_token_id`:2 for open-end generation.\n",
      " 11%|████████▉                                                                          | 3/28 [00:45<06:43, 16.13s/it]Setting `pad_token_id` to `eos_token_id`:2 for open-end generation.\n",
      " 14%|███████████▊                                                                       | 4/28 [01:07<07:27, 18.65s/it]Setting `pad_token_id` to `eos_token_id`:2 for open-end generation.\n",
      " 18%|██████████████▊                                                                    | 5/28 [01:16<05:47, 15.10s/it]Setting `pad_token_id` to `eos_token_id`:2 for open-end generation.\n",
      " 21%|█████████████████▊                                                                 | 6/28 [01:21<04:14, 11.58s/it]Setting `pad_token_id` to `eos_token_id`:2 for open-end generation.\n",
      " 25%|████████████████████▊                                                              | 7/28 [01:42<05:09, 14.72s/it]Setting `pad_token_id` to `eos_token_id`:2 for open-end generation.\n",
      " 29%|███████████████████████▋                                                           | 8/28 [01:56<04:51, 14.56s/it]Setting `pad_token_id` to `eos_token_id`:2 for open-end generation.\n",
      " 32%|██████████████████████████▋                                                        | 9/28 [02:05<03:59, 12.59s/it]Setting `pad_token_id` to `eos_token_id`:2 for open-end generation.\n",
      " 36%|█████████████████████████████▎                                                    | 10/28 [02:23<04:17, 14.32s/it]Setting `pad_token_id` to `eos_token_id`:2 for open-end generation.\n",
      " 39%|████████████████████████████████▏                                                 | 11/28 [02:37<04:03, 14.30s/it]Setting `pad_token_id` to `eos_token_id`:2 for open-end generation.\n",
      " 43%|███████████████████████████████████▏                                              | 12/28 [02:51<03:46, 14.15s/it]Setting `pad_token_id` to `eos_token_id`:2 for open-end generation.\n",
      " 46%|██████████████████████████████████████                                            | 13/28 [03:13<04:09, 16.65s/it]Setting `pad_token_id` to `eos_token_id`:2 for open-end generation.\n",
      " 50%|█████████████████████████████████████████                                         | 14/28 [03:16<02:52, 12.30s/it]Setting `pad_token_id` to `eos_token_id`:2 for open-end generation.\n",
      " 54%|███████████████████████████████████████████▉                                      | 15/28 [03:37<03:15, 15.07s/it]Setting `pad_token_id` to `eos_token_id`:2 for open-end generation.\n",
      " 57%|██████████████████████████████████████████████▊                                   | 16/28 [03:47<02:43, 13.64s/it]Setting `pad_token_id` to `eos_token_id`:2 for open-end generation.\n",
      " 61%|█████████████████████████████████████████████████▊                                | 17/28 [03:49<01:51, 10.15s/it]Setting `pad_token_id` to `eos_token_id`:2 for open-end generation.\n",
      " 64%|████████████████████████████████████████████████████▋                             | 18/28 [04:12<02:19, 13.96s/it]Setting `pad_token_id` to `eos_token_id`:2 for open-end generation.\n",
      " 68%|███████████████████████████████████████████████████████▋                          | 19/28 [04:24<01:59, 13.26s/it]Setting `pad_token_id` to `eos_token_id`:2 for open-end generation.\n",
      " 71%|██████████████████████████████████████████████████████████▌                       | 20/28 [04:26<01:18,  9.83s/it]Setting `pad_token_id` to `eos_token_id`:2 for open-end generation.\n",
      " 75%|█████████████████████████████████████████████████████████████▌                    | 21/28 [04:47<01:32, 13.25s/it]Setting `pad_token_id` to `eos_token_id`:2 for open-end generation.\n",
      " 79%|████████████████████████████████████████████████████████████████▍                 | 22/28 [05:09<01:35, 15.89s/it]Setting `pad_token_id` to `eos_token_id`:2 for open-end generation.\n",
      " 82%|███████████████████████████████████████████████████████████████████▎              | 23/28 [05:18<01:09, 13.95s/it]Setting `pad_token_id` to `eos_token_id`:2 for open-end generation.\n",
      " 86%|██████████████████████████████████████████████████████████████████████▎           | 24/28 [05:37<01:01, 15.40s/it]Setting `pad_token_id` to `eos_token_id`:2 for open-end generation.\n",
      " 89%|█████████████████████████████████████████████████████████████████████████▏        | 25/28 [05:56<00:49, 16.51s/it]Setting `pad_token_id` to `eos_token_id`:2 for open-end generation.\n",
      " 93%|████████████████████████████████████████████████████████████████████████████▏     | 26/28 [06:13<00:33, 16.70s/it]Setting `pad_token_id` to `eos_token_id`:2 for open-end generation.\n",
      " 96%|███████████████████████████████████████████████████████████████████████████████   | 27/28 [06:23<00:14, 14.53s/it]Setting `pad_token_id` to `eos_token_id`:2 for open-end generation.\n",
      "100%|██████████████████████████████████████████████████████████████████████████████████| 28/28 [06:42<00:00, 14.37s/it]\n",
      "C:\\ProgramData\\anaconda3\\Lib\\site-packages\\urllib3\\connectionpool.py:1056: InsecureRequestWarning: Unverified HTTPS request is being made to host 'khproxyap.aseglobal.com'. Adding certificate verification is strongly advised. See: https://urllib3.readthedocs.io/en/1.26.x/advanced-usage.html#ssl-warnings\n",
      "  warnings.warn(\n",
      "C:\\ProgramData\\anaconda3\\Lib\\site-packages\\urllib3\\connectionpool.py:1056: InsecureRequestWarning: Unverified HTTPS request is being made to host 'khproxyap.aseglobal.com'. Adding certificate verification is strongly advised. See: https://urllib3.readthedocs.io/en/1.26.x/advanced-usage.html#ssl-warnings\n",
      "  warnings.warn(\n",
      "C:\\ProgramData\\anaconda3\\Lib\\site-packages\\urllib3\\connectionpool.py:1056: InsecureRequestWarning: Unverified HTTPS request is being made to host 'khproxyap.aseglobal.com'. Adding certificate verification is strongly advised. See: https://urllib3.readthedocs.io/en/1.26.x/advanced-usage.html#ssl-warnings\n",
      "  warnings.warn(\n",
      "C:\\ProgramData\\anaconda3\\Lib\\site-packages\\urllib3\\connectionpool.py:1056: InsecureRequestWarning: Unverified HTTPS request is being made to host 'khproxyap.aseglobal.com'. Adding certificate verification is strongly advised. See: https://urllib3.readthedocs.io/en/1.26.x/advanced-usage.html#ssl-warnings\n",
      "  warnings.warn(\n",
      "C:\\ProgramData\\anaconda3\\Lib\\site-packages\\urllib3\\connectionpool.py:1056: InsecureRequestWarning: Unverified HTTPS request is being made to host 'khproxyap.aseglobal.com'. Adding certificate verification is strongly advised. See: https://urllib3.readthedocs.io/en/1.26.x/advanced-usage.html#ssl-warnings\n",
      "  warnings.warn(\n",
      "C:\\ProgramData\\anaconda3\\Lib\\site-packages\\urllib3\\connectionpool.py:1056: InsecureRequestWarning: Unverified HTTPS request is being made to host 'khproxyap.aseglobal.com'. Adding certificate verification is strongly advised. See: https://urllib3.readthedocs.io/en/1.26.x/advanced-usage.html#ssl-warnings\n",
      "  warnings.warn(\n",
      "C:\\ProgramData\\anaconda3\\Lib\\site-packages\\urllib3\\connectionpool.py:1056: InsecureRequestWarning: Unverified HTTPS request is being made to host 'khproxyap.aseglobal.com'. Adding certificate verification is strongly advised. See: https://urllib3.readthedocs.io/en/1.26.x/advanced-usage.html#ssl-warnings\n",
      "  warnings.warn(\n",
      "C:\\ProgramData\\anaconda3\\Lib\\site-packages\\urllib3\\connectionpool.py:1056: InsecureRequestWarning: Unverified HTTPS request is being made to host 'khproxyap.aseglobal.com'. Adding certificate verification is strongly advised. See: https://urllib3.readthedocs.io/en/1.26.x/advanced-usage.html#ssl-warnings\n",
      "  warnings.warn(\n",
      "C:\\ProgramData\\anaconda3\\Lib\\site-packages\\urllib3\\connectionpool.py:1056: InsecureRequestWarning: Unverified HTTPS request is being made to host 'khproxyap.aseglobal.com'. Adding certificate verification is strongly advised. See: https://urllib3.readthedocs.io/en/1.26.x/advanced-usage.html#ssl-warnings\n",
      "  warnings.warn(\n"
     ]
    },
    {
     "name": "stderr",
     "output_type": "stream",
     "text": [
      "Setting `pad_token_id` to `eos_token_id`:2 for open-end generation.\n"
     ]
    },
    {
     "name": "stdout",
     "output_type": "stream",
     "text": [
      "'20231225 台南市政府 第626次市政會議 直播.mp3 , spend_time : 434.31s'\n"
     ]
    },
    {
     "data": {
      "application/vnd.jupyter.widget-view+json": {
       "model_id": "946d0636b6e94cc8a226983a6a9b65dc",
       "version_major": 2,
       "version_minor": 0
      },
      "text/plain": [
       "Loading checkpoint shards:   0%|          | 0/2 [00:00<?, ?it/s]"
      ]
     },
     "metadata": {},
     "output_type": "display_data"
    },
    {
     "name": "stderr",
     "output_type": "stream",
     "text": [
      "Special tokens have been added in the vocabulary, make sure the associated word embeddings are fine-tuned or trained.\n",
      "  0%|                                                                                           | 0/18 [00:00<?, ?it/s]Asking to truncate to max_length but no maximum length is provided and the model has no predefined maximum length. Default to no truncation.\n",
      "Setting `pad_token_id` to `eos_token_id`:2 for open-end generation.\n",
      "  6%|████▌                                                                              | 1/18 [00:19<05:38, 19.89s/it]Setting `pad_token_id` to `eos_token_id`:2 for open-end generation.\n",
      " 11%|█████████▏                                                                         | 2/18 [00:41<05:38, 21.14s/it]Setting `pad_token_id` to `eos_token_id`:2 for open-end generation.\n",
      " 17%|█████████████▊                                                                     | 3/18 [00:52<04:01, 16.10s/it]Setting `pad_token_id` to `eos_token_id`:2 for open-end generation.\n",
      " 22%|██████████████████▍                                                                | 4/18 [01:14<04:18, 18.48s/it]Setting `pad_token_id` to `eos_token_id`:2 for open-end generation.\n",
      " 28%|███████████████████████                                                            | 5/18 [01:31<03:54, 18.07s/it]Setting `pad_token_id` to `eos_token_id`:2 for open-end generation.\n",
      " 33%|███████████████████████████▋                                                       | 6/18 [01:53<03:54, 19.53s/it]Setting `pad_token_id` to `eos_token_id`:2 for open-end generation.\n",
      " 39%|████████████████████████████████▎                                                  | 7/18 [02:16<03:45, 20.52s/it]Setting `pad_token_id` to `eos_token_id`:2 for open-end generation.\n",
      " 44%|████████████████████████████████████▉                                              | 8/18 [02:23<02:43, 16.39s/it]Setting `pad_token_id` to `eos_token_id`:2 for open-end generation.\n",
      " 50%|█████████████████████████████████████████▌                                         | 9/18 [02:41<02:32, 16.90s/it]Setting `pad_token_id` to `eos_token_id`:2 for open-end generation.\n",
      " 56%|█████████████████████████████████████████████▌                                    | 10/18 [03:03<02:26, 18.26s/it]Setting `pad_token_id` to `eos_token_id`:2 for open-end generation.\n",
      " 61%|██████████████████████████████████████████████████                                | 11/18 [03:23<02:12, 18.95s/it]Setting `pad_token_id` to `eos_token_id`:2 for open-end generation.\n",
      " 67%|██████████████████████████████████████████████████████▋                           | 12/18 [03:43<01:54, 19.15s/it]Setting `pad_token_id` to `eos_token_id`:2 for open-end generation.\n",
      " 72%|███████████████████████████████████████████████████████████▏                      | 13/18 [03:48<01:14, 14.99s/it]Setting `pad_token_id` to `eos_token_id`:2 for open-end generation.\n",
      " 78%|███████████████████████████████████████████████████████████████▊                  | 14/18 [04:09<01:07, 16.80s/it]Setting `pad_token_id` to `eos_token_id`:2 for open-end generation.\n",
      " 83%|████████████████████████████████████████████████████████████████████▎             | 15/18 [04:15<00:40, 13.57s/it]Setting `pad_token_id` to `eos_token_id`:2 for open-end generation.\n",
      " 89%|████████████████████████████████████████████████████████████████████████▉         | 16/18 [04:30<00:27, 13.87s/it]Setting `pad_token_id` to `eos_token_id`:2 for open-end generation.\n",
      " 94%|█████████████████████████████████████████████████████████████████████████████▍    | 17/18 [04:48<00:15, 15.20s/it]Setting `pad_token_id` to `eos_token_id`:2 for open-end generation.\n",
      "100%|██████████████████████████████████████████████████████████████████████████████████| 18/18 [05:05<00:00, 16.98s/it]\n",
      "C:\\ProgramData\\anaconda3\\Lib\\site-packages\\urllib3\\connectionpool.py:1056: InsecureRequestWarning: Unverified HTTPS request is being made to host 'khproxyap.aseglobal.com'. Adding certificate verification is strongly advised. See: https://urllib3.readthedocs.io/en/1.26.x/advanced-usage.html#ssl-warnings\n",
      "  warnings.warn(\n",
      "C:\\ProgramData\\anaconda3\\Lib\\site-packages\\urllib3\\connectionpool.py:1056: InsecureRequestWarning: Unverified HTTPS request is being made to host 'khproxyap.aseglobal.com'. Adding certificate verification is strongly advised. See: https://urllib3.readthedocs.io/en/1.26.x/advanced-usage.html#ssl-warnings\n",
      "  warnings.warn(\n",
      "C:\\ProgramData\\anaconda3\\Lib\\site-packages\\urllib3\\connectionpool.py:1056: InsecureRequestWarning: Unverified HTTPS request is being made to host 'khproxyap.aseglobal.com'. Adding certificate verification is strongly advised. See: https://urllib3.readthedocs.io/en/1.26.x/advanced-usage.html#ssl-warnings\n",
      "  warnings.warn(\n",
      "C:\\ProgramData\\anaconda3\\Lib\\site-packages\\urllib3\\connectionpool.py:1056: InsecureRequestWarning: Unverified HTTPS request is being made to host 'khproxyap.aseglobal.com'. Adding certificate verification is strongly advised. See: https://urllib3.readthedocs.io/en/1.26.x/advanced-usage.html#ssl-warnings\n",
      "  warnings.warn(\n",
      "C:\\ProgramData\\anaconda3\\Lib\\site-packages\\urllib3\\connectionpool.py:1056: InsecureRequestWarning: Unverified HTTPS request is being made to host 'khproxyap.aseglobal.com'. Adding certificate verification is strongly advised. See: https://urllib3.readthedocs.io/en/1.26.x/advanced-usage.html#ssl-warnings\n",
      "  warnings.warn(\n",
      "C:\\ProgramData\\anaconda3\\Lib\\site-packages\\urllib3\\connectionpool.py:1056: InsecureRequestWarning: Unverified HTTPS request is being made to host 'khproxyap.aseglobal.com'. Adding certificate verification is strongly advised. See: https://urllib3.readthedocs.io/en/1.26.x/advanced-usage.html#ssl-warnings\n",
      "  warnings.warn(\n",
      "C:\\ProgramData\\anaconda3\\Lib\\site-packages\\urllib3\\connectionpool.py:1056: InsecureRequestWarning: Unverified HTTPS request is being made to host 'khproxyap.aseglobal.com'. Adding certificate verification is strongly advised. See: https://urllib3.readthedocs.io/en/1.26.x/advanced-usage.html#ssl-warnings\n",
      "  warnings.warn(\n",
      "C:\\ProgramData\\anaconda3\\Lib\\site-packages\\urllib3\\connectionpool.py:1056: InsecureRequestWarning: Unverified HTTPS request is being made to host 'khproxyap.aseglobal.com'. Adding certificate verification is strongly advised. See: https://urllib3.readthedocs.io/en/1.26.x/advanced-usage.html#ssl-warnings\n",
      "  warnings.warn(\n",
      "C:\\ProgramData\\anaconda3\\Lib\\site-packages\\urllib3\\connectionpool.py:1056: InsecureRequestWarning: Unverified HTTPS request is being made to host 'khproxyap.aseglobal.com'. Adding certificate verification is strongly advised. See: https://urllib3.readthedocs.io/en/1.26.x/advanced-usage.html#ssl-warnings\n",
      "  warnings.warn(\n",
      "Setting `pad_token_id` to `eos_token_id`:2 for open-end generation.\n"
     ]
    },
    {
     "name": "stdout",
     "output_type": "stream",
     "text": [
      "'20240130 台南市政府 第631次市政會議 直播.mp3 , spend_time : 382.03s'\n"
     ]
    }
   ],
   "source": [
    "def conference_assistant(text , model_name='breeze' , embedding_model = None , max_new_tokens=1000 , mp3_name = None):\n",
    "    t0 = time()\n",
    "    assert model_name in ['gemma' , 'breeze'] , 'error model name'\n",
    "    \n",
    "    if model_name=='gemma':\n",
    "        llm_model = r\"gemma path\"\n",
    "        pattern = re.compile(r'<end_of_turn>([\\W\\w]*)[<eos>]?')\n",
    "    elif model_name=='breeze':\n",
    "        llm_model = r\"Breeze path\"\n",
    "        pattern = re.compile(r'\\[/INST\\]([\\W\\w]*)[</s>]?')\n",
    "\n",
    "    embedding_model = 'sentence-transformers/paraphrase-multilingual-mpnet-base-v2' if embedding_model is None else embedding_model\n",
    "        \n",
    "    def get_prompt(main_prompt , text):\n",
    "        if model_name=='gemma':\n",
    "            prompt = f'''<start_of_turn>user\n",
    "                    {main_prompt}\n",
    "                    ```{text}```<end_of_turn>'''\n",
    "        elif model_name=='breeze':\n",
    "            prompt = f'''<s>You are a helpful AI assistant built by MediaTek Research. The user you are helping speaks Traditional Chinese and comes from Taiwan.\n",
    "                         [INST]{main_prompt}\n",
    "                         text : ```{text}``` [/INST]'''\n",
    "        return prompt\n",
    "        \n",
    "    def get_fix_prompt(text):\n",
    "        main_prompt = '你是一位非常專業的逐字稿校正專家,以下三個引號 ``` 所包含的文字為逐字稿的一部分,請檢視是否有亂碼、錯別字,若有就進行修正或刪除,在修正完畢後,加入標點符號,除了更正後的文字以外,不需要有額外敘述。'\n",
    "        prompt = get_prompt(main_prompt , text)\n",
    "\n",
    "        return prompt\n",
    "\n",
    "    def get_split_text(text , chunk_size , chunk_overlap):\n",
    "        text_splitter = RecursiveCharacterTextSplitter(\n",
    "            chunk_size=chunk_size,\n",
    "            chunk_overlap=chunk_overlap, \n",
    "            separators=[\"\\n\\n\", \"\\n\", \" \", \"\"])\n",
    "        return text_splitter.split_text(text)\n",
    "    \n",
    "    def get_llm_tokenizer(llm_model):\n",
    "        model = AutoModelForCausalLM.from_pretrained(\n",
    "            llm_model,\n",
    "            device_map=\"auto\",\n",
    "            torch_dtype=torch.bfloat16,\n",
    "        )\n",
    "        tokenizer = AutoTokenizer.from_pretrained(llm_model)\n",
    "        return model ,tokenizer\n",
    "    \n",
    "    def get_fix_text(split_text , model ,tokenizer):\n",
    "        split_text_after_verify = ''\n",
    "        for text in tqdm(split_text):\n",
    "            query_struct = get_fix_prompt(text)\n",
    "            inputs = tokenizer([query_struct], return_tensors=\"pt\",padding=True,truncation=True)\n",
    "            output = pattern.findall(tokenizer.batch_decode(model.generate(**inputs, max_new_tokens=max_new_tokens))[0])[0]\n",
    "            split_text_after_verify += output\n",
    "        return split_text_after_verify\n",
    "    \n",
    "    def get_vectordb(split_text , embedding_model):\n",
    "        embedding = HuggingFaceEmbeddings(model_name=embedding_model,\n",
    "                                          model_kwargs={'device': 'cpu'})\n",
    "        vectordb = Chroma.from_texts(split_text, embedding=embedding)\n",
    "        return vectordb\n",
    "    \n",
    "    def summarize(text , model ,tokenizer):\n",
    "        main_prompt = '''你是一位非常專業的會議記錄專家,以下三個引號 ``` 所包含的文字為會議記錄重點,請基於這些資訊,進行條列式回答,\n",
    "                         不要提供錯誤資訊,並確保回答資訊正確,限制在1000字以內。\n",
    "                         [會議記錄]\n",
    "                        1. 主要討論點：\n",
    "                        2. 決策事項：\n",
    "                        3. 未來行動計畫及截止日期：\n",
    "                        4. 各項行動計畫的負責人：'''\n",
    "        prompt = get_prompt(main_prompt , text)\n",
    "        inputs = tokenizer([prompt], return_tensors=\"pt\",padding=True,truncation=True)\n",
    "        output = pattern.findall(tokenizer.batch_decode(model.generate(**inputs, max_new_tokens=max_new_tokens))[0])[0]\n",
    "        return output\n",
    "    \n",
    "    each_stage_text = {'input' : text}\n",
    "   \n",
    "    # 1. initial model,tokenizer\n",
    "    model ,tokenizer = get_llm_tokenizer(llm_model)\n",
    "    \n",
    "    # 2. use RecursiveCharacterTextSplitter to get split text\n",
    "    split_text = get_split_text(text , 1000, 0)\n",
    "\n",
    "    # 3. fix text\n",
    "    new_text = get_fix_text(split_text , model ,tokenizer)\n",
    "    each_stage_text['after_fix'] = new_text\n",
    "    \n",
    "    # 4. split for RAG\n",
    "    new_text = get_split_text(new_text , 500 , 50)\n",
    "    \n",
    "    # 5. get vectordb\n",
    "    vectordb = get_vectordb(new_text , embedding_model)\n",
    "    \n",
    "    # 6. question to vectordb\n",
    "    question = '有哪些討論主題?'\n",
    "    answers = vectordb.max_marginal_relevance_search(question ,k=10 ,fetch_k=10)\n",
    "    \n",
    "    # 7. merge all topics\n",
    "    text = ''.join([answer.page_content for answer in answers])\n",
    "    each_stage_text['RAG_answers'] = text\n",
    "\n",
    "    # 8. summary\n",
    "    summary_text = summarize(text , model ,tokenizer)\n",
    "    each_stage_text['summary_text'] = summary_text\n",
    "    \n",
    "    if not mp3_name is None:\n",
    "        for k in each_stage_text.keys():\n",
    "            with open('{}_summary_{}_{}'.format(model_name , k , mp3.replace('.mp3' , '.txt')) , 'w' , encoding='utf8' ) as f:\n",
    "                f.write(each_stage_text[k])\n",
    "        \n",
    "    return each_stage_text , time() - t0 \n",
    "\n",
    "# using breeze \n",
    "each_stage_texts = {}\n",
    "for transcript , mp3 in zip(new_transcript , mp3_files):\n",
    "    mp3 = os.path.basename(mp3)\n",
    "    each_stage_text , spend_time = conference_assistant(transcript , model_name='breeze' , mp3_name = mp3)\n",
    "    each_stage_texts[mp3] = each_stage_text\n",
    "    pp(f'{mp3} , spend_time : {spend_time:.2f}s')\n",
    "\n",
    "        \n",
    "\n",
    "   \n",
    "\n",
    "   "
   ]
  },
  {
   "cell_type": "markdown",
   "id": "f95717c6",
   "metadata": {},
   "source": [
    "<h1><font color='blue'>4. 計算平均cosine similarity</font></h1>"
   ]
  },
  {
   "cell_type": "code",
   "execution_count": 12,
   "id": "02faf456",
   "metadata": {},
   "outputs": [
    {
     "name": "stderr",
     "output_type": "stream",
     "text": [
      "C:\\ProgramData\\anaconda3\\Lib\\site-packages\\urllib3\\connectionpool.py:1056: InsecureRequestWarning: Unverified HTTPS request is being made to host 'khproxyap.aseglobal.com'. Adding certificate verification is strongly advised. See: https://urllib3.readthedocs.io/en/1.26.x/advanced-usage.html#ssl-warnings\n",
      "  warnings.warn(\n",
      "C:\\ProgramData\\anaconda3\\Lib\\site-packages\\urllib3\\connectionpool.py:1056: InsecureRequestWarning: Unverified HTTPS request is being made to host 'khproxyap.aseglobal.com'. Adding certificate verification is strongly advised. See: https://urllib3.readthedocs.io/en/1.26.x/advanced-usage.html#ssl-warnings\n",
      "  warnings.warn(\n",
      "C:\\ProgramData\\anaconda3\\Lib\\site-packages\\urllib3\\connectionpool.py:1056: InsecureRequestWarning: Unverified HTTPS request is being made to host 'khproxyap.aseglobal.com'. Adding certificate verification is strongly advised. See: https://urllib3.readthedocs.io/en/1.26.x/advanced-usage.html#ssl-warnings\n",
      "  warnings.warn(\n",
      "C:\\ProgramData\\anaconda3\\Lib\\site-packages\\urllib3\\connectionpool.py:1056: InsecureRequestWarning: Unverified HTTPS request is being made to host 'khproxyap.aseglobal.com'. Adding certificate verification is strongly advised. See: https://urllib3.readthedocs.io/en/1.26.x/advanced-usage.html#ssl-warnings\n",
      "  warnings.warn(\n",
      "C:\\ProgramData\\anaconda3\\Lib\\site-packages\\urllib3\\connectionpool.py:1056: InsecureRequestWarning: Unverified HTTPS request is being made to host 'khproxyap.aseglobal.com'. Adding certificate verification is strongly advised. See: https://urllib3.readthedocs.io/en/1.26.x/advanced-usage.html#ssl-warnings\n",
      "  warnings.warn(\n",
      "C:\\ProgramData\\anaconda3\\Lib\\site-packages\\urllib3\\connectionpool.py:1056: InsecureRequestWarning: Unverified HTTPS request is being made to host 'khproxyap.aseglobal.com'. Adding certificate verification is strongly advised. See: https://urllib3.readthedocs.io/en/1.26.x/advanced-usage.html#ssl-warnings\n",
      "  warnings.warn(\n",
      "C:\\ProgramData\\anaconda3\\Lib\\site-packages\\urllib3\\connectionpool.py:1056: InsecureRequestWarning: Unverified HTTPS request is being made to host 'khproxyap.aseglobal.com'. Adding certificate verification is strongly advised. See: https://urllib3.readthedocs.io/en/1.26.x/advanced-usage.html#ssl-warnings\n",
      "  warnings.warn(\n",
      "C:\\ProgramData\\anaconda3\\Lib\\site-packages\\urllib3\\connectionpool.py:1056: InsecureRequestWarning: Unverified HTTPS request is being made to host 'khproxyap.aseglobal.com'. Adding certificate verification is strongly advised. See: https://urllib3.readthedocs.io/en/1.26.x/advanced-usage.html#ssl-warnings\n",
      "  warnings.warn(\n"
     ]
    },
    {
     "name": "stdout",
     "output_type": "stream",
     "text": [
      "'AVG cosine similarity : 0.40'\n"
     ]
    }
   ],
   "source": [
    "\n",
    "get_cosine_similarity = lambda GT , pred: 1 - cosine(GT , pred)\n",
    "\n",
    "model = SentenceTransformer('sentence-transformers/paraphrase-multilingual-mpnet-base-v2')\n",
    "\n",
    "cosine_similarity = []\n",
    "for k in each_stage_texts.keys():\n",
    "    GT_file = k.replace('.mp3' , '_GT.txt')\n",
    "    if '南市政府' in k and os.path.exists(GT_file):\n",
    "        pred = model.encode(each_stage_texts[k]['summary_text'])\n",
    "        with open(GT_file , 'r' , encoding = 'utf8') as f:\n",
    "            GT = model.encode(f.read())\n",
    "        cosine_similarity.append(get_cosine_similarity(GT , pred))\n",
    "\n",
    "pp(f'AVG cosine similarity : {sum(cosine_similarity) / len(cosine_similarity):.2f}')"
   ]
  },
  {
   "cell_type": "code",
   "execution_count": 13,
   "id": "a8cb3d71",
   "metadata": {},
   "outputs": [
    {
     "name": "stdout",
     "output_type": "stream",
     "text": [
      "[0.29021766781806946,\n",
      " 0.49101749062538147,\n",
      " 0.3836284577846527,\n",
      " 0.3403230905532837,\n",
      " 0.5067058205604553]\n"
     ]
    }
   ],
   "source": [
    "pp(cosine_similarity)"
   ]
  },
  {
   "cell_type": "code",
   "execution_count": null,
   "id": "1d19415f",
   "metadata": {},
   "outputs": [],
   "source": []
  }
 ],
 "metadata": {
  "kernelspec": {
   "display_name": "Python 3 (ipykernel)",
   "language": "python",
   "name": "python3"
  },
  "language_info": {
   "codemirror_mode": {
    "name": "ipython",
    "version": 3
   },
   "file_extension": ".py",
   "mimetype": "text/x-python",
   "name": "python",
   "nbconvert_exporter": "python",
   "pygments_lexer": "ipython3",
   "version": "3.11.4"
  }
 },
 "nbformat": 4,
 "nbformat_minor": 5
}
